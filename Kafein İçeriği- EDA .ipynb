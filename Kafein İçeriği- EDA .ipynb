{
 "cells": [
  {
   "cell_type": "markdown",
   "id": "73d6b366",
   "metadata": {},
   "source": [
    "**Kafein İçeriği- EDA "
   ]
  },
  {
   "cell_type": "code",
   "execution_count": 1,
   "id": "ce2cf4fd",
   "metadata": {},
   "outputs": [],
   "source": [
    "import pandas as pd\n",
    "import numpy as np\n",
    "import matplotlib.pyplot as plt \n",
    "import seaborn as sns \n",
    "\n",
    "import warnings\n",
    "warnings.filterwarnings('ignore')"
   ]
  },
  {
   "cell_type": "code",
   "execution_count": 3,
   "id": "329064f4",
   "metadata": {},
   "outputs": [
    {
     "data": {
      "text/html": [
       "<div>\n",
       "<style scoped>\n",
       "    .dataframe tbody tr th:only-of-type {\n",
       "        vertical-align: middle;\n",
       "    }\n",
       "\n",
       "    .dataframe tbody tr th {\n",
       "        vertical-align: top;\n",
       "    }\n",
       "\n",
       "    .dataframe thead th {\n",
       "        text-align: right;\n",
       "    }\n",
       "</style>\n",
       "<table border=\"1\" class=\"dataframe\">\n",
       "  <thead>\n",
       "    <tr style=\"text-align: right;\">\n",
       "      <th></th>\n",
       "      <th>drink</th>\n",
       "      <th>Volume (ml)</th>\n",
       "      <th>Calories</th>\n",
       "      <th>Caffeine (mg)</th>\n",
       "      <th>type</th>\n",
       "    </tr>\n",
       "  </thead>\n",
       "  <tbody>\n",
       "    <tr>\n",
       "      <th>0</th>\n",
       "      <td>Costa Coffee</td>\n",
       "      <td>256.993715</td>\n",
       "      <td>0</td>\n",
       "      <td>277</td>\n",
       "      <td>Coffee</td>\n",
       "    </tr>\n",
       "    <tr>\n",
       "      <th>1</th>\n",
       "      <td>Coffee Friend Brewed Coffee</td>\n",
       "      <td>250.191810</td>\n",
       "      <td>0</td>\n",
       "      <td>145</td>\n",
       "      <td>Coffee</td>\n",
       "    </tr>\n",
       "    <tr>\n",
       "      <th>2</th>\n",
       "      <td>Hell Energy Coffee</td>\n",
       "      <td>250.191810</td>\n",
       "      <td>150</td>\n",
       "      <td>100</td>\n",
       "      <td>Coffee</td>\n",
       "    </tr>\n",
       "    <tr>\n",
       "      <th>3</th>\n",
       "      <td>Killer Coffee (AU)</td>\n",
       "      <td>250.191810</td>\n",
       "      <td>0</td>\n",
       "      <td>430</td>\n",
       "      <td>Coffee</td>\n",
       "    </tr>\n",
       "    <tr>\n",
       "      <th>4</th>\n",
       "      <td>Nescafe Gold</td>\n",
       "      <td>250.191810</td>\n",
       "      <td>0</td>\n",
       "      <td>66</td>\n",
       "      <td>Coffee</td>\n",
       "    </tr>\n",
       "  </tbody>\n",
       "</table>\n",
       "</div>"
      ],
      "text/plain": [
       "                         drink  Volume (ml)  Calories  Caffeine (mg)    type\n",
       "0                 Costa Coffee   256.993715         0            277  Coffee\n",
       "1  Coffee Friend Brewed Coffee   250.191810         0            145  Coffee\n",
       "2           Hell Energy Coffee   250.191810       150            100  Coffee\n",
       "3           Killer Coffee (AU)   250.191810         0            430  Coffee\n",
       "4                 Nescafe Gold   250.191810         0             66  Coffee"
      ]
     },
     "execution_count": 3,
     "metadata": {},
     "output_type": "execute_result"
    }
   ],
   "source": [
    "Caffeine = pd.read_csv('caffeine.csv')\n",
    "Caffeine.head()"
   ]
  },
  {
   "cell_type": "code",
   "execution_count": 4,
   "id": "4c666b26",
   "metadata": {},
   "outputs": [
    {
     "name": "stdout",
     "output_type": "stream",
     "text": [
      "<class 'pandas.core.frame.DataFrame'>\n",
      "RangeIndex: 610 entries, 0 to 609\n",
      "Data columns (total 5 columns):\n",
      " #   Column         Non-Null Count  Dtype  \n",
      "---  ------         --------------  -----  \n",
      " 0   drink          610 non-null    object \n",
      " 1   Volume (ml)    610 non-null    float64\n",
      " 2   Calories       610 non-null    int64  \n",
      " 3   Caffeine (mg)  610 non-null    int64  \n",
      " 4   type           610 non-null    object \n",
      "dtypes: float64(1), int64(2), object(2)\n",
      "memory usage: 24.0+ KB\n"
     ]
    }
   ],
   "source": [
    "Caffeine.info()"
   ]
  },
  {
   "cell_type": "code",
   "execution_count": 5,
   "id": "2befb392",
   "metadata": {},
   "outputs": [
    {
     "data": {
      "text/html": [
       "<div>\n",
       "<style scoped>\n",
       "    .dataframe tbody tr th:only-of-type {\n",
       "        vertical-align: middle;\n",
       "    }\n",
       "\n",
       "    .dataframe tbody tr th {\n",
       "        vertical-align: top;\n",
       "    }\n",
       "\n",
       "    .dataframe thead th {\n",
       "        text-align: right;\n",
       "    }\n",
       "</style>\n",
       "<table border=\"1\" class=\"dataframe\">\n",
       "  <thead>\n",
       "    <tr style=\"text-align: right;\">\n",
       "      <th></th>\n",
       "      <th>drink</th>\n",
       "      <th>Volume (ml)</th>\n",
       "      <th>Calories</th>\n",
       "      <th>Caffeine (mg)</th>\n",
       "      <th>type</th>\n",
       "    </tr>\n",
       "  </thead>\n",
       "  <tbody>\n",
       "    <tr>\n",
       "      <th>0</th>\n",
       "      <td>Costa Coffee</td>\n",
       "      <td>256.993715</td>\n",
       "      <td>0</td>\n",
       "      <td>277</td>\n",
       "      <td>Coffee</td>\n",
       "    </tr>\n",
       "    <tr>\n",
       "      <th>1</th>\n",
       "      <td>Coffee Friend Brewed Coffee</td>\n",
       "      <td>250.191810</td>\n",
       "      <td>0</td>\n",
       "      <td>145</td>\n",
       "      <td>Coffee</td>\n",
       "    </tr>\n",
       "    <tr>\n",
       "      <th>3</th>\n",
       "      <td>Killer Coffee (AU)</td>\n",
       "      <td>250.191810</td>\n",
       "      <td>0</td>\n",
       "      <td>430</td>\n",
       "      <td>Coffee</td>\n",
       "    </tr>\n",
       "    <tr>\n",
       "      <th>4</th>\n",
       "      <td>Nescafe Gold</td>\n",
       "      <td>250.191810</td>\n",
       "      <td>0</td>\n",
       "      <td>66</td>\n",
       "      <td>Coffee</td>\n",
       "    </tr>\n",
       "    <tr>\n",
       "      <th>9</th>\n",
       "      <td>TrueStart Performance Coffee</td>\n",
       "      <td>150.824850</td>\n",
       "      <td>0</td>\n",
       "      <td>95</td>\n",
       "      <td>Coffee</td>\n",
       "    </tr>\n",
       "    <tr>\n",
       "      <th>...</th>\n",
       "      <td>...</td>\n",
       "      <td>...</td>\n",
       "      <td>...</td>\n",
       "      <td>...</td>\n",
       "      <td>...</td>\n",
       "    </tr>\n",
       "    <tr>\n",
       "      <th>604</th>\n",
       "      <td>Limitless Sparkling Water</td>\n",
       "      <td>354.882000</td>\n",
       "      <td>0</td>\n",
       "      <td>35</td>\n",
       "      <td>Water</td>\n",
       "    </tr>\n",
       "    <tr>\n",
       "      <th>605</th>\n",
       "      <td>Pep Talk Sparkling Water</td>\n",
       "      <td>354.882000</td>\n",
       "      <td>0</td>\n",
       "      <td>55</td>\n",
       "      <td>Water</td>\n",
       "    </tr>\n",
       "    <tr>\n",
       "      <th>606</th>\n",
       "      <td>Polar Seltzer Water</td>\n",
       "      <td>354.882000</td>\n",
       "      <td>0</td>\n",
       "      <td>0</td>\n",
       "      <td>Water</td>\n",
       "    </tr>\n",
       "    <tr>\n",
       "      <th>607</th>\n",
       "      <td>Yerbae Sparkling Water</td>\n",
       "      <td>354.882000</td>\n",
       "      <td>0</td>\n",
       "      <td>100</td>\n",
       "      <td>Water</td>\n",
       "    </tr>\n",
       "    <tr>\n",
       "      <th>609</th>\n",
       "      <td>MiO Energy Water Enhancer</td>\n",
       "      <td>236.588000</td>\n",
       "      <td>0</td>\n",
       "      <td>60</td>\n",
       "      <td>Water</td>\n",
       "    </tr>\n",
       "  </tbody>\n",
       "</table>\n",
       "<p>200 rows × 5 columns</p>\n",
       "</div>"
      ],
      "text/plain": [
       "                            drink  Volume (ml)  Calories  Caffeine (mg)  \\\n",
       "0                    Costa Coffee   256.993715         0            277   \n",
       "1     Coffee Friend Brewed Coffee   250.191810         0            145   \n",
       "3              Killer Coffee (AU)   250.191810         0            430   \n",
       "4                    Nescafe Gold   250.191810         0             66   \n",
       "9    TrueStart Performance Coffee   150.824850         0             95   \n",
       "..                            ...          ...       ...            ...   \n",
       "604     Limitless Sparkling Water   354.882000         0             35   \n",
       "605      Pep Talk Sparkling Water   354.882000         0             55   \n",
       "606           Polar Seltzer Water   354.882000         0              0   \n",
       "607        Yerbae Sparkling Water   354.882000         0            100   \n",
       "609     MiO Energy Water Enhancer   236.588000         0             60   \n",
       "\n",
       "       type  \n",
       "0    Coffee  \n",
       "1    Coffee  \n",
       "3    Coffee  \n",
       "4    Coffee  \n",
       "9    Coffee  \n",
       "..      ...  \n",
       "604   Water  \n",
       "605   Water  \n",
       "606   Water  \n",
       "607   Water  \n",
       "609   Water  \n",
       "\n",
       "[200 rows x 5 columns]"
      ]
     },
     "execution_count": 5,
     "metadata": {},
     "output_type": "execute_result"
    }
   ],
   "source": [
    "Caffeine[Caffeine.Calories == 0]"
   ]
  },
  {
   "cell_type": "code",
   "execution_count": 6,
   "id": "b9a00e79",
   "metadata": {},
   "outputs": [
    {
     "data": {
      "text/plain": [
       "Energy Drinks    219\n",
       "Coffee           173\n",
       "Soft Drinks       90\n",
       "Tea               66\n",
       "Energy Shots      36\n",
       "Water             26\n",
       "Name: type, dtype: int64"
      ]
     },
     "execution_count": 6,
     "metadata": {},
     "output_type": "execute_result"
    }
   ],
   "source": [
    "Caffeine['type'].value_counts()"
   ]
  },
  {
   "cell_type": "markdown",
   "id": "1404383e",
   "metadata": {},
   "source": [
    "Kalori ve kafein değerlerini kalori/300 ml ve kafein/300 ml olarak dönüştürme."
   ]
  },
  {
   "cell_type": "code",
   "execution_count": 7,
   "id": "f553b297",
   "metadata": {},
   "outputs": [],
   "source": [
    "Caffeine['Calories/300ml'] = Caffeine['Calories']*300/Caffeine['Volume (ml)']\n",
    "Caffeine['Caffeine (mg)/300ml'] = Caffeine['Caffeine (mg)']*300/Caffeine['Volume (ml)']\n",
    "Caffeine.drop('Volume (ml)',axis=1,inplace=True)\n",
    "Caffeine.drop('Calories',axis=1,inplace=True)\n",
    "Caffeine.drop('Caffeine (mg)',axis=1,inplace=True)"
   ]
  },
  {
   "cell_type": "code",
   "execution_count": 8,
   "id": "8fc24645",
   "metadata": {},
   "outputs": [
    {
     "data": {
      "text/html": [
       "<div>\n",
       "<style scoped>\n",
       "    .dataframe tbody tr th:only-of-type {\n",
       "        vertical-align: middle;\n",
       "    }\n",
       "\n",
       "    .dataframe tbody tr th {\n",
       "        vertical-align: top;\n",
       "    }\n",
       "\n",
       "    .dataframe thead th {\n",
       "        text-align: right;\n",
       "    }\n",
       "</style>\n",
       "<table border=\"1\" class=\"dataframe\">\n",
       "  <thead>\n",
       "    <tr style=\"text-align: right;\">\n",
       "      <th></th>\n",
       "      <th>drink</th>\n",
       "      <th>type</th>\n",
       "      <th>Calories/300ml</th>\n",
       "      <th>Caffeine (mg)/300ml</th>\n",
       "    </tr>\n",
       "  </thead>\n",
       "  <tbody>\n",
       "    <tr>\n",
       "      <th>0</th>\n",
       "      <td>Costa Coffee</td>\n",
       "      <td>Coffee</td>\n",
       "      <td>0.000000</td>\n",
       "      <td>323.354211</td>\n",
       "    </tr>\n",
       "    <tr>\n",
       "      <th>1</th>\n",
       "      <td>Coffee Friend Brewed Coffee</td>\n",
       "      <td>Coffee</td>\n",
       "      <td>0.000000</td>\n",
       "      <td>173.866603</td>\n",
       "    </tr>\n",
       "    <tr>\n",
       "      <th>2</th>\n",
       "      <td>Hell Energy Coffee</td>\n",
       "      <td>Coffee</td>\n",
       "      <td>179.862003</td>\n",
       "      <td>119.908002</td>\n",
       "    </tr>\n",
       "    <tr>\n",
       "      <th>3</th>\n",
       "      <td>Killer Coffee (AU)</td>\n",
       "      <td>Coffee</td>\n",
       "      <td>0.000000</td>\n",
       "      <td>515.604408</td>\n",
       "    </tr>\n",
       "    <tr>\n",
       "      <th>4</th>\n",
       "      <td>Nescafe Gold</td>\n",
       "      <td>Coffee</td>\n",
       "      <td>0.000000</td>\n",
       "      <td>79.139281</td>\n",
       "    </tr>\n",
       "  </tbody>\n",
       "</table>\n",
       "</div>"
      ],
      "text/plain": [
       "                         drink    type  Calories/300ml  Caffeine (mg)/300ml\n",
       "0                 Costa Coffee  Coffee        0.000000           323.354211\n",
       "1  Coffee Friend Brewed Coffee  Coffee        0.000000           173.866603\n",
       "2           Hell Energy Coffee  Coffee      179.862003           119.908002\n",
       "3           Killer Coffee (AU)  Coffee        0.000000           515.604408\n",
       "4                 Nescafe Gold  Coffee        0.000000            79.139281"
      ]
     },
     "execution_count": 8,
     "metadata": {},
     "output_type": "execute_result"
    }
   ],
   "source": [
    "Caffeine.head()"
   ]
  },
  {
   "cell_type": "code",
   "execution_count": 9,
   "id": "7701795e",
   "metadata": {},
   "outputs": [
    {
     "data": {
      "image/png": "[encoded data removed]",
      "text/plain": [
       "<Figure size 720x360 with 2 Axes>"
      ]
     },
     "metadata": {
      "needs_background": "light"
     },
     "output_type": "display_data"
    }
   ],
   "source": [
    "plt.figure(figsize=(10,5))\n",
    "sns.heatmap(Caffeine.corr(),annot=True)\n",
    "plt.title('Heatmap Variable Correlations')\n",
    "plt.show()"
   ]
  },
  {
   "cell_type": "markdown",
   "id": "e845c0bc",
   "metadata": {},
   "source": [
    " Kalorilerin kafeinle hafif negatif korelasyonu."
   ]
  },
  {
   "cell_type": "code",
   "execution_count": 10,
   "id": "c324baed",
   "metadata": {},
   "outputs": [
    {
     "data": {
      "image/png": "[encoded data removed]",
      "text/plain": [
       "<Figure size 1080x360 with 1 Axes>"
      ]
     },
     "metadata": {
      "needs_background": "light"
     },
     "output_type": "display_data"
    }
   ],
   "source": [
    "plt.figure(figsize=(15,5))\n",
    "sns.barplot(x='type',y='Calories/300ml',data=Caffeine)\n",
    "plt.title('Beverage Type vs Calories')\n",
    "plt.xlabel('Beverage Type')\n",
    "plt.ylabel('Calories')\n",
    "plt.show()"
   ]
  },
  {
   "cell_type": "markdown",
   "id": "8ab0f3fa",
   "metadata": {},
   "source": [
    "Enerji içecekleri hem kafein hem de kalori açısından listenin başında gelir."
   ]
  },
  {
   "cell_type": "code",
   "execution_count": 11,
   "id": "1eb41cff",
   "metadata": {},
   "outputs": [
    {
     "data": {
      "image/png": "[encoded data removed]",
      "text/plain": [
       "<Figure size 1080x360 with 1 Axes>"
      ]
     },
     "metadata": {
      "needs_background": "light"
     },
     "output_type": "display_data"
    }
   ],
   "source": [
    "plt.figure(figsize=(15,5))\n",
    "sns.barplot(x='type',y='Caffeine (mg)/300ml',data=Caffeine)\n",
    "plt.title('Beverage Type vs Caffeine')\n",
    "plt.xlabel('Beverage Type')\n",
    "plt.ylabel('Caffeine')\n",
    "plt.show()"
   ]
  },
  {
   "cell_type": "code",
   "execution_count": 12,
   "id": "c6726423",
   "metadata": {},
   "outputs": [
    {
     "data": {
      "image/png": "[encoded data removed]",
      "text/plain": [
       "<Figure size 1080x360 with 1 Axes>"
      ]
     },
     "metadata": {
      "needs_background": "light"
     },
     "output_type": "display_data"
    }
   ],
   "source": [
    "plt.figure(figsize=(15,5))\n",
    "sns.lineplot(x='Calories/300ml',y='Caffeine (mg)/300ml',data=Caffeine)\n",
    "plt.title('Calories vs Caffeine')\n",
    "plt.xlabel('Calories')\n",
    "plt.ylabel('Caffeine')\n",
    "plt.show()"
   ]
  },
  {
   "cell_type": "code",
   "execution_count": 13,
   "id": "811926fa",
   "metadata": {},
   "outputs": [
    {
     "data": {
      "text/html": [
       "<div>\n",
       "<style scoped>\n",
       "    .dataframe tbody tr th:only-of-type {\n",
       "        vertical-align: middle;\n",
       "    }\n",
       "\n",
       "    .dataframe tbody tr th {\n",
       "        vertical-align: top;\n",
       "    }\n",
       "\n",
       "    .dataframe thead th {\n",
       "        text-align: right;\n",
       "    }\n",
       "</style>\n",
       "<table border=\"1\" class=\"dataframe\">\n",
       "  <thead>\n",
       "    <tr style=\"text-align: right;\">\n",
       "      <th></th>\n",
       "      <th>Calories/300ml</th>\n",
       "      <th>Caffeine (mg)/300ml</th>\n",
       "    </tr>\n",
       "  </thead>\n",
       "  <tbody>\n",
       "    <tr>\n",
       "      <th>0</th>\n",
       "      <td>0.000000</td>\n",
       "      <td>323.354211</td>\n",
       "    </tr>\n",
       "    <tr>\n",
       "      <th>1</th>\n",
       "      <td>0.000000</td>\n",
       "      <td>173.866603</td>\n",
       "    </tr>\n",
       "    <tr>\n",
       "      <th>2</th>\n",
       "      <td>179.862003</td>\n",
       "      <td>119.908002</td>\n",
       "    </tr>\n",
       "    <tr>\n",
       "      <th>3</th>\n",
       "      <td>0.000000</td>\n",
       "      <td>515.604408</td>\n",
       "    </tr>\n",
       "    <tr>\n",
       "      <th>4</th>\n",
       "      <td>0.000000</td>\n",
       "      <td>79.139281</td>\n",
       "    </tr>\n",
       "  </tbody>\n",
       "</table>\n",
       "</div>"
      ],
      "text/plain": [
       "   Calories/300ml  Caffeine (mg)/300ml\n",
       "0        0.000000           323.354211\n",
       "1        0.000000           173.866603\n",
       "2      179.862003           119.908002\n",
       "3        0.000000           515.604408\n",
       "4        0.000000            79.139281"
      ]
     },
     "execution_count": 13,
     "metadata": {},
     "output_type": "execute_result"
    }
   ],
   "source": [
    "Caffeine_clust = Caffeine.drop(['drink','type'],axis=1)\n",
    "Caffeine_clust.head()"
   ]
  },
  {
   "cell_type": "code",
   "execution_count": 14,
   "id": "093614ce",
   "metadata": {},
   "outputs": [],
   "source": [
    "from sklearn.preprocessing import StandardScaler"
   ]
  },
  {
   "cell_type": "code",
   "execution_count": 15,
   "id": "07d5d18c",
   "metadata": {},
   "outputs": [
    {
     "data": {
      "text/html": [
       "<div>\n",
       "<style scoped>\n",
       "    .dataframe tbody tr th:only-of-type {\n",
       "        vertical-align: middle;\n",
       "    }\n",
       "\n",
       "    .dataframe tbody tr th {\n",
       "        vertical-align: top;\n",
       "    }\n",
       "\n",
       "    .dataframe thead th {\n",
       "        text-align: right;\n",
       "    }\n",
       "</style>\n",
       "<table border=\"1\" class=\"dataframe\">\n",
       "  <thead>\n",
       "    <tr style=\"text-align: right;\">\n",
       "      <th></th>\n",
       "      <th>Calories/300ml</th>\n",
       "      <th>Caffeine (mg)/300ml</th>\n",
       "    </tr>\n",
       "  </thead>\n",
       "  <tbody>\n",
       "    <tr>\n",
       "      <th>0</th>\n",
       "      <td>-0.760405</td>\n",
       "      <td>0.444142</td>\n",
       "    </tr>\n",
       "    <tr>\n",
       "      <th>1</th>\n",
       "      <td>-0.760405</td>\n",
       "      <td>-0.014119</td>\n",
       "    </tr>\n",
       "    <tr>\n",
       "      <th>2</th>\n",
       "      <td>1.281608</td>\n",
       "      <td>-0.179532</td>\n",
       "    </tr>\n",
       "    <tr>\n",
       "      <th>3</th>\n",
       "      <td>-0.760405</td>\n",
       "      <td>1.033495</td>\n",
       "    </tr>\n",
       "    <tr>\n",
       "      <th>4</th>\n",
       "      <td>-0.760405</td>\n",
       "      <td>-0.304511</td>\n",
       "    </tr>\n",
       "  </tbody>\n",
       "</table>\n",
       "</div>"
      ],
      "text/plain": [
       "   Calories/300ml  Caffeine (mg)/300ml\n",
       "0       -0.760405             0.444142\n",
       "1       -0.760405            -0.014119\n",
       "2        1.281608            -0.179532\n",
       "3       -0.760405             1.033495\n",
       "4       -0.760405            -0.304511"
      ]
     },
     "execution_count": 15,
     "metadata": {},
     "output_type": "execute_result"
    }
   ],
   "source": [
    "scaler =StandardScaler()\n",
    "col = Caffeine_clust.columns\n",
    "Caffeine_clust = scaler.fit_transform(Caffeine_clust)\n",
    "Caffeine_clust = pd.DataFrame(Caffeine_clust,columns=col)\n",
    "Caffeine_clust.head()"
   ]
  },
  {
   "cell_type": "code",
   "execution_count": 17,
   "id": "05b0caed",
   "metadata": {},
   "outputs": [
    {
     "data": {
      "image/png": "[encoded data removed]",
      "text/plain": [
       "<Figure size 432x288 with 1 Axes>"
      ]
     },
     "metadata": {
      "needs_background": "light"
     },
     "output_type": "display_data"
    }
   ],
   "source": [
    "from sklearn.cluster import KMeans\n",
    "from sklearn.metrics import silhouette_score\n",
    "ssd = []\n",
    "range_n_clusters = [2, 3, 4, 5, 6, 7, 8]\n",
    "for num_clusters in range_n_clusters:\n",
    "    kmeans = KMeans(n_clusters=num_clusters, max_iter=50)\n",
    "    kmeans.fit(Caffeine_clust)\n",
    "    \n",
    "    ssd.append(kmeans.inertia_)\n",
    "    \n",
    "plt.plot(ssd)\n",
    "plt.show()"
   ]
  },
  {
   "cell_type": "code",
   "execution_count": 18,
   "id": "aa1a599a",
   "metadata": {},
   "outputs": [
    {
     "data": {
      "text/html": [
       "<div>\n",
       "<style scoped>\n",
       "    .dataframe tbody tr th:only-of-type {\n",
       "        vertical-align: middle;\n",
       "    }\n",
       "\n",
       "    .dataframe tbody tr th {\n",
       "        vertical-align: top;\n",
       "    }\n",
       "\n",
       "    .dataframe thead th {\n",
       "        text-align: right;\n",
       "    }\n",
       "</style>\n",
       "<table border=\"1\" class=\"dataframe\">\n",
       "  <thead>\n",
       "    <tr style=\"text-align: right;\">\n",
       "      <th></th>\n",
       "      <th>drink</th>\n",
       "      <th>type</th>\n",
       "      <th>Calories/300ml</th>\n",
       "      <th>Caffeine (mg)/300ml</th>\n",
       "    </tr>\n",
       "  </thead>\n",
       "  <tbody>\n",
       "    <tr>\n",
       "      <th>0</th>\n",
       "      <td>Costa Coffee</td>\n",
       "      <td>Coffee</td>\n",
       "      <td>0.000000</td>\n",
       "      <td>323.354211</td>\n",
       "    </tr>\n",
       "    <tr>\n",
       "      <th>1</th>\n",
       "      <td>Coffee Friend Brewed Coffee</td>\n",
       "      <td>Coffee</td>\n",
       "      <td>0.000000</td>\n",
       "      <td>173.866603</td>\n",
       "    </tr>\n",
       "    <tr>\n",
       "      <th>2</th>\n",
       "      <td>Hell Energy Coffee</td>\n",
       "      <td>Coffee</td>\n",
       "      <td>179.862003</td>\n",
       "      <td>119.908002</td>\n",
       "    </tr>\n",
       "    <tr>\n",
       "      <th>3</th>\n",
       "      <td>Killer Coffee (AU)</td>\n",
       "      <td>Coffee</td>\n",
       "      <td>0.000000</td>\n",
       "      <td>515.604408</td>\n",
       "    </tr>\n",
       "    <tr>\n",
       "      <th>4</th>\n",
       "      <td>Nescafe Gold</td>\n",
       "      <td>Coffee</td>\n",
       "      <td>0.000000</td>\n",
       "      <td>79.139281</td>\n",
       "    </tr>\n",
       "  </tbody>\n",
       "</table>\n",
       "</div>"
      ],
      "text/plain": [
       "                         drink    type  Calories/300ml  Caffeine (mg)/300ml\n",
       "0                 Costa Coffee  Coffee        0.000000           323.354211\n",
       "1  Coffee Friend Brewed Coffee  Coffee        0.000000           173.866603\n",
       "2           Hell Energy Coffee  Coffee      179.862003           119.908002\n",
       "3           Killer Coffee (AU)  Coffee        0.000000           515.604408\n",
       "4                 Nescafe Gold  Coffee        0.000000            79.139281"
      ]
     },
     "execution_count": 18,
     "metadata": {},
     "output_type": "execute_result"
    }
   ],
   "source": [
    "Caffeine.head()"
   ]
  },
  {
   "cell_type": "code",
   "execution_count": 20,
   "id": "5d577228",
   "metadata": {},
   "outputs": [],
   "source": [
    "Caffeine['Cluster_ID'] = kmeans.labels_"
   ]
  },
  {
   "cell_type": "code",
   "execution_count": 21,
   "id": "4fde7adc",
   "metadata": {},
   "outputs": [
    {
     "data": {
      "image/png": "[encoded data removed]",
      "text/plain": [
       "<Figure size 1080x360 with 1 Axes>"
      ]
     },
     "metadata": {
      "needs_background": "light"
     },
     "output_type": "display_data"
    }
   ],
   "source": [
    "plt.figure(figsize=(15,5))\n",
    "sns.barplot(x='Cluster_ID',y='Caffeine (mg)/300ml',data=Caffeine)\n",
    "plt.title('Cluster vs Caffeine')\n",
    "plt.xlabel('Cluster')\n",
    "plt.ylabel('Caffeine')\n",
    "plt.show()"
   ]
  },
  {
   "cell_type": "code",
   "execution_count": 22,
   "id": "a78e51ec",
   "metadata": {},
   "outputs": [
    {
     "data": {
      "image/png": "[encoded data removed]",
      "text/plain": [
       "<Figure size 1080x360 with 1 Axes>"
      ]
     },
     "metadata": {
      "needs_background": "light"
     },
     "output_type": "display_data"
    }
   ],
   "source": [
    "plt.figure(figsize=(15,5))\n",
    "sns.barplot(x='Cluster_ID',y='Calories/300ml',data=Caffeine)\n",
    "plt.title('Cluster vs Calories')\n",
    "plt.xlabel('Cluster')\n",
    "plt.ylabel('Calories')\n",
    "plt.show()"
   ]
  },
  {
   "cell_type": "code",
   "execution_count": 23,
   "id": "4d090be0",
   "metadata": {},
   "outputs": [
    {
     "data": {
      "image/png": "[encoded data removed]",
      "text/plain": [
       "<Figure size 1080x720 with 1 Axes>"
      ]
     },
     "metadata": {
      "needs_background": "light"
     },
     "output_type": "display_data"
    }
   ],
   "source": [
    "plt.figure(figsize=(15,10))\n",
    "sns.countplot(x='Cluster_ID',hue='type',data=Caffeine)\n",
    "plt.title('Cluster vs Type of Beverage')\n",
    "plt.xlabel('Cluster')\n",
    "plt.ylabel('Type of Beverage')\n",
    "plt.show()"
   ]
  },
  {
   "cell_type": "code",
   "execution_count": 24,
   "id": "99a2b1c1",
   "metadata": {},
   "outputs": [
    {
     "data": {
      "image/png": "[encoded data removed]",
      "text/plain": [
       "<Figure size 720x360 with 1 Axes>"
      ]
     },
     "metadata": {
      "needs_background": "light"
     },
     "output_type": "display_data"
    }
   ],
   "source": [
    "plt.figure(figsize=(10,5))\n",
    "sns.scatterplot(x='Caffeine (mg)/300ml',y='Calories/300ml',hue='Cluster_ID',palette='deep',data=Caffeine)\n",
    "plt.title('Cluster vs Caffeine vs Calories')\n",
    "plt.xlabel('Caffeine')\n",
    "plt.ylabel('Calories')\n",
    "plt.show()"
   ]
  },
  {
   "cell_type": "code",
   "execution_count": null,
   "id": "8d5fa21c",
   "metadata": {},
   "outputs": [],
   "source": []
  }
 ],
 "metadata": {
  "kernelspec": {
   "display_name": "Python 3 (ipykernel)",
   "language": "python",
   "name": "python3"
  },
  "language_info": {
   "codemirror_mode": {
    "name": "ipython",
    "version": 3
   },
   "file_extension": ".py",
   "mimetype": "text/x-python",
   "name": "python",
   "nbconvert_exporter": "python",
   "pygments_lexer": "ipython3",
   "version": "3.9.12"
  }
 },
 "nbformat": 4,
 "nbformat_minor": 5
}
